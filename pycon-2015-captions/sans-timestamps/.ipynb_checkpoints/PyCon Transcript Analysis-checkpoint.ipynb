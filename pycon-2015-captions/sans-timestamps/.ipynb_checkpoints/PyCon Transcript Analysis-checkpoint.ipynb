{
 "cells": [
  {
   "cell_type": "markdown",
   "metadata": {
    "collapsed": false
   },
   "source": [
    "# Start\n",
    "            \n",
    "            \n",
    "            "
   ]
  },
  {
   "cell_type": "code",
   "execution_count": 48,
   "metadata": {
    "collapsed": false
   },
   "outputs": [],
   "source": [
    "import os\n",
    "import nltk\n",
    "import glob\n",
    "import re\n",
    "from string import punctuation\n",
    "from os import listdir\n",
    "import codecs\n",
    "from collections import Counter\n",
    "\n",
    "\n",
    "words = []\n",
    "\n",
    "# loop through the files using glob\n",
    "textFiles = glob.glob(\"*.txt\")\n",
    "# and run it:\n",
    "# 18 doesn't work Problem with UTF encoding\n",
    "with open(textFiles[1]) as f:\n",
    "    for line in f:\n",
    "        line2 = \"\".join([char if char not in punctuation else \" \" for char in line]) #join is pret-ty crucial\n",
    "        #if you have a list of strings you can use list to join them\n",
    "        words.extend(line2.lower().split()) #extend is like append but for one list\n",
    " "
   ]
  },
  {
   "cell_type": "code",
   "execution_count": 49,
   "metadata": {
    "collapsed": false
   },
   "outputs": [
    {
     "name": "stdout",
     "output_type": "stream",
     "text": [
      "['we', 're', 'a', 'little', 'bit', 'behind', 'at', 'the', 'moment', 'hopefully']\n"
     ]
    }
   ],
   "source": [
    "print(words[0:10])"
   ]
  },
  {
   "cell_type": "code",
   "execution_count": 50,
   "metadata": {
    "collapsed": false
   },
   "outputs": [
    {
     "data": {
      "text/plain": [
       "6785"
      ]
     },
     "execution_count": 50,
     "metadata": {},
     "output_type": "execute_result"
    }
   ],
   "source": [
    "len(words)"
   ]
  },
  {
   "cell_type": "code",
   "execution_count": 5,
   "metadata": {
    "collapsed": false
   },
   "outputs": [
    {
     "name": "stdout",
     "output_type": "stream",
     "text": [
      "!\"#$%&'()*+,-./:;<=>?@[\\]^_`{|}~\n"
     ]
    }
   ],
   "source": [
    "print(punctuation)"
   ]
  },
  {
   "cell_type": "code",
   "execution_count": 69,
   "metadata": {
    "collapsed": false
   },
   "outputs": [
    {
     "name": "stdout",
     "output_type": "stream",
     "text": [
      "0 041115710ABRhodes-stripped-done.txt :  6875\n",
      "       4 and the funnyiness:  3 \n",
      "\n",
      "1 041015710AKScott-stripped-done.txt :  6785\n",
      "       2 and the funnyiness:  0 \n",
      "\n",
      "2 041015517CJSchenck-stripped-done.txt :  5463\n",
      "       3 and the funnyiness:  0 \n",
      "\n",
      "3 041215517CCLassam-stripped-done.txt :  4535\n",
      "       2 and the funnyiness:  0 \n",
      "\n",
      "4 041215517CTEastman-stripped-done.txt :  4833\n",
      "       2 and the funnyiness:  6 \n",
      "\n",
      "5 041115517CCMyers-stripped-done.txt :  4723\n",
      "       3 and the funnyiness:  0 \n",
      "\n",
      "6 041215710ACSpang-stripped-done.txt :  3950\n",
      "       4 and the funnyiness:  1 \n",
      "\n",
      "7 041115710AAKaptur-stripped-done.txt :  6343\n",
      "       3 and the funnyiness:  2 \n",
      "\n",
      "8 041115710ALaroia-stripped-done.txt :  4239\n",
      "       4 and the funnyiness:  2 \n",
      "\n",
      "9 041215517CYLi-stripped-done.txt :  5468\n",
      "       2 and the funnyiness:  1 \n",
      "\n",
      "10 041015710AJCheng-stripped-done.txt :  4336\n",
      "       3 and the funnyiness:  0 \n",
      "\n",
      "11 041015710ABPeterson-stripped-done.txt :  3416\n",
      "       2 and the funnyiness:  0 \n",
      "\n",
      "12 041115517CDKozar-stripped-done.txt :  3342\n",
      "       3 and the funnyiness:  0 \n",
      "\n",
      "13 041015517CFStratton-stripped-done.txt :  5156\n",
      "       2 and the funnyiness:  0 \n",
      "\n",
      "14 041215710ALSneeringer-stripped-done.txt :  3539\n",
      "       2 and the funnyiness:  0 \n",
      "\n",
      "15 041115710ALRupprecht-stripped-done.txt :  3565\n",
      "       3 and the funnyiness:  4 \n",
      "\n",
      "16 041215710ASBird-stripped-done.txt :  4526\n",
      "       3 and the funnyiness:  0 \n",
      "\n",
      "17 041115710AAKaptur2-stripped-done.txt :  4420\n",
      "       4 and the funnyiness:  4 \n",
      "\n",
      "18 041115517CMScherer-stripped-done.txt :  2941\n",
      "       3 and the funnyiness:  0 \n",
      "\n",
      "19 041015517CCBenfield-stripped-done.txt :  3985\n",
      "       2 and the funnyiness:  1 \n",
      "\n",
      "20 041115517CDTracy-stripped-done.txt :  3171\n",
      "       3 and the funnyiness:  1 \n",
      "\n",
      "21 041015710Alvh-stripped-done.txt :  4898\n",
      "       3 and the funnyiness:  0 \n",
      "\n",
      "22 041015710AJTriplett-stripped-done.txt :  5353\n",
      "       3 and the funnyiness:  1 \n",
      "\n",
      "23 041115517CJEvans-stripped-done.txt :  3970\n",
      "       2 and the funnyiness:  2 \n",
      "\n",
      "24 041015710AAOruganti-stripped-done.txt :  2563\n",
      "       1 and the funnyiness:  0 \n",
      "\n",
      "25 041015710AMLauter-stripped-done.txt :  4604\n",
      "       4 and the funnyiness:  2 \n",
      "\n",
      "26 041015517CMGrinberg-stripped-done.txt :  6499\n",
      "       4 and the funnyiness:  0 \n",
      "\n",
      "27 041015710ADCallahan-stripped-done.txt :  6207\n",
      "       2 and the funnyiness:  2 \n",
      "\n",
      "28 041115710AJBaker-stripped-done.txt :  3909\n",
      "       2 and the funnyiness:  0 \n",
      "\n",
      "29 041115517CMMakai-stripped-done.txt :  5807\n",
      "       2 and the funnyiness:  1 \n",
      "\n"
     ]
    }
   ],
   "source": [
    "i = 0\n",
    "for textFile in textFiles:\n",
    "    try:\n",
    "        with open(textFile) as f:\n",
    "            words = []\n",
    "            for line in f:\n",
    "                line2 = \"\".join([char if char not in punctuation else \" \" for char in line]) #join is pret-ty crucial\n",
    "                #if you have a list of strings you can use list to join them\n",
    "                words.extend(line2.lower().split()) #extend is like append but for one list\n",
    "            print(i, str(textFile), \": \",  len(words))\n",
    "            c = Counter(words)\n",
    "            quantApp = c['applause']\n",
    "            quantLaugh = c['laughter']\n",
    "            print(\"      \", quantApp, \"and the funnyiness: \", quantLaugh, \"\\n\")\n",
    "            i += 1\n",
    "    except: # CRKelly-stripped-done is NOT WORKING\n",
    "        pass"
   ]
  },
  {
   "cell_type": "markdown",
   "metadata": {},
   "source": [
    "## Counter Frequencies"
   ]
  },
  {
   "cell_type": "code",
   "execution_count": 56,
   "metadata": {
    "collapsed": true
   },
   "outputs": [],
   "source": [
    "words =[]\n",
    "with open(textFiles[0]) as f:\n",
    "    for line in f:\n",
    "        line2 = \"\".join([char if char not in punctuation else \" \" for char in line]) #join is pret-ty crucial\n",
    "        #if you have a list of strings you can use list to join them\n",
    "        words.extend(line2.lower().split()) #extend is like append but for one list\n",
    "#word frequency\n",
    "from collections import Counter\n",
    "c = Counter(words)"
   ]
  },
  {
   "cell_type": "code",
   "execution_count": 58,
   "metadata": {
    "collapsed": false
   },
   "outputs": [
    {
     "data": {
      "text/plain": [
       "[('the', 292),\n",
       " ('to', 226),\n",
       " ('a', 221),\n",
       " ('it', 187),\n",
       " ('you', 184),\n",
       " ('of', 166),\n",
       " ('and', 165),\n",
       " ('that', 158),\n",
       " ('is', 111),\n",
       " ('in', 111)]"
      ]
     },
     "execution_count": 58,
     "metadata": {},
     "output_type": "execute_result"
    }
   ],
   "source": [
    "c.most_common(10)\n",
    "#lots of stop words"
   ]
  },
  {
   "cell_type": "code",
   "execution_count": 64,
   "metadata": {
    "collapsed": false
   },
   "outputs": [
    {
     "data": {
      "text/plain": [
       "4"
      ]
     },
     "execution_count": 64,
     "metadata": {},
     "output_type": "execute_result"
    }
   ],
   "source": [
    "c['applause']\n",
    "# Counters return a number of a certain word"
   ]
  },
  {
   "cell_type": "markdown",
   "metadata": {},
   "source": [
    "## Finding the Likes, and what words are like them"
   ]
  },
  {
   "cell_type": "code",
   "execution_count": 78,
   "metadata": {
    "collapsed": false
   },
   "outputs": [
    {
     "data": {
      "text/plain": [
       "'the'"
      ]
     },
     "execution_count": 78,
     "metadata": {},
     "output_type": "execute_result"
    }
   ],
   "source": [
    "words[5]"
   ]
  },
  {
   "cell_type": "code",
   "execution_count": 118,
   "metadata": {
    "collapsed": false
   },
   "outputs": [
    {
     "name": "stdout",
     "output_type": "stream",
     "text": [
      "[2, 211, 410, 436, 553, 742, 820, 825, 835, 860, 1448, 1492, 1682, 2126, 2677, 2735, 2789, 2849, 3010, 3037, 3151, 3187, 3234, 3572, 3637, 4159, 4345, 4695, 4813, 4923, 5147, 5327, 5666, 5701]\n"
     ]
    }
   ],
   "source": [
    "# more list combobulations\n",
    "# Don't be scared of Regex\n",
    "new_words = [i for i, x in enumerate(words)if re.match(\"like\", x)]\n",
    "print(new_words)"
   ]
  },
  {
   "cell_type": "code",
   "execution_count": 119,
   "metadata": {
    "collapsed": false
   },
   "outputs": [
    {
     "name": "stdout",
     "output_type": "stream",
     "text": [
      "like would\n"
     ]
    }
   ],
   "source": [
    "print(words[211],words[210])"
   ]
  },
  {
   "cell_type": "code",
   "execution_count": 120,
   "metadata": {
    "collapsed": false
   },
   "outputs": [],
   "source": [
    "likewrapper = [] # Find the words around Like\n",
    "for i in new_words:\n",
    "    likewrapper.extend(words[i-1:i+2])\n",
    "    # TODO count out each three, and then divy uhm up that way"
   ]
  },
  {
   "cell_type": "code",
   "execution_count": 128,
   "metadata": {
    "collapsed": false
   },
   "outputs": [
    {
     "name": "stdout",
     "output_type": "stream",
     "text": [
      "['would', 'like', 'to', 'would', 'like', 'to', 'are', 'like', 'this', 'looks', 'like', 'head', 'looks', 'like', 'the', 'look', 'like', 'so', 'look', 'like', 'a', 'of', 'like', 'this', 'just', 'like', 'the', 'nice', 'like', 'this', 'is', 'like', 'do', 'something', 'like', 'this', 'is', 'like', 'the', 'questions', 'like', 'what', 'be', 'like', 'you', 'scenes', 'like', 'we', 'things', 'like', 'going', 'facebook', 'likes', 'every', 're', 'like', 'celery', 'really', 'like', 'for', 'things', 'likes', 'that', 's', 'like', 'all', 's', 'like', 'yeah', 'graphs', 'like', 'this', 'looks', 'like', 'security', 'something', 'like', 'what', 'things', 'like', 'that', 're', 'like', 'that', 'data', 'like', 'my', 's', 'like', 'a', 'is', 'like', 'reject', 'application', 'like', 'this', 'things', 'like', 'that', 'really', 'liked', 'the']\n"
     ]
    }
   ],
   "source": [
    "print(likewrapper)"
   ]
  },
  {
   "cell_type": "code",
   "execution_count": null,
   "metadata": {
    "collapsed": true
   },
   "outputs": [],
   "source": []
  }
 ],
 "metadata": {
  "kernelspec": {
   "display_name": "Python 3",
   "language": "python",
   "name": "python3"
  },
  "language_info": {
   "codemirror_mode": {
    "name": "ipython",
    "version": 3
   },
   "file_extension": ".py",
   "mimetype": "text/x-python",
   "name": "python",
   "nbconvert_exporter": "python",
   "pygments_lexer": "ipython3",
   "version": "3.4.3"
  }
 },
 "nbformat": 4,
 "nbformat_minor": 0
}
