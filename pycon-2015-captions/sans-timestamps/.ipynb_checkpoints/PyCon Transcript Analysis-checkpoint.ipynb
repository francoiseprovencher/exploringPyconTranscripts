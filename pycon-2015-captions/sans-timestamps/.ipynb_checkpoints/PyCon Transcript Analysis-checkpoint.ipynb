{
 "cells": [
  {
   "cell_type": "markdown",
   "metadata": {
    "collapsed": false
   },
   "source": [
    "# Start\n",
    "            \n",
    "            \n",
    "            "
   ]
  },
  {
   "cell_type": "code",
   "execution_count": 48,
   "metadata": {
    "collapsed": false
   },
   "outputs": [],
   "source": [
    "import os\n",
    "import nltk\n",
    "import glob\n",
    "import re\n",
    "from string import punctuation\n",
    "from os import listdir\n",
    "import codecs\n",
    "from collections import Counter\n",
    "\n",
    "\n",
    "words = []\n",
    "\n",
    "# loop through the files using glob\n",
    "textFiles = glob.glob(\"*.txt\")\n",
    "# and run it:\n",
    "# 18 doesn't work Problem with UTF encoding\n",
    "with open(textFiles[1]) as f:\n",
    "    for line in f:\n",
    "        line2 = \"\".join([char if char not in punctuation else \" \" for char in line]) #join is pret-ty crucial\n",
    "        #if you have a list of strings you can use list to join them\n",
    "        words.extend(line2.lower().split()) #extend is like append but for one list\n",
    " "
   ]
  },
  {
   "cell_type": "code",
   "execution_count": 49,
   "metadata": {
    "collapsed": false
   },
   "outputs": [
    {
     "name": "stdout",
     "output_type": "stream",
     "text": [
      "['we', 're', 'a', 'little', 'bit', 'behind', 'at', 'the', 'moment', 'hopefully']\n"
     ]
    }
   ],
   "source": [
    "print(words[0:10])"
   ]
  },
  {
   "cell_type": "code",
   "execution_count": 50,
   "metadata": {
    "collapsed": false
   },
   "outputs": [
    {
     "data": {
      "text/plain": [
       "6785"
      ]
     },
     "execution_count": 50,
     "metadata": {},
     "output_type": "execute_result"
    }
   ],
   "source": [
    "len(words)"
   ]
  },
  {
   "cell_type": "code",
   "execution_count": 5,
   "metadata": {
    "collapsed": false
   },
   "outputs": [
    {
     "name": "stdout",
     "output_type": "stream",
     "text": [
      "!\"#$%&'()*+,-./:;<=>?@[\\]^_`{|}~\n"
     ]
    }
   ],
   "source": [
    "print(punctuation)"
   ]
  },
  {
   "cell_type": "code",
   "execution_count": 53,
   "metadata": {
    "collapsed": false
   },
   "outputs": [
    {
     "name": "stdout",
     "output_type": "stream",
     "text": [
      "0 041115710ABRhodes-stripped-done.txt :  6875\n",
      "1 041015710AKScott-stripped-done.txt :  6785\n",
      "2 041015517CJSchenck-stripped-done.txt :  5463\n",
      "3 041215517CCLassam-stripped-done.txt :  4535\n",
      "4 041215517CTEastman-stripped-done.txt :  4833\n",
      "5 041115517CCMyers-stripped-done.txt :  4723\n",
      "6 041215710ACSpang-stripped-done.txt :  3950\n",
      "7 041115710AAKaptur-stripped-done.txt :  6343\n",
      "8 041115710ALaroia-stripped-done.txt :  4239\n",
      "9 041215517CYLi-stripped-done.txt :  5468\n",
      "10 041015710AJCheng-stripped-done.txt :  4336\n",
      "11 041015710ABPeterson-stripped-done.txt :  3416\n",
      "12 041115517CDKozar-stripped-done.txt :  3342\n",
      "13 041015517CFStratton-stripped-done.txt :  5156\n",
      "14 041215710ALSneeringer-stripped-done.txt :  3539\n",
      "15 041115710ALRupprecht-stripped-done.txt :  3565\n",
      "16 041215710ASBird-stripped-done.txt :  4526\n",
      "17 041115710AAKaptur2-stripped-done.txt :  4420\n",
      "18 041115517CMScherer-stripped-done.txt :  2941\n",
      "19 041015517CCBenfield-stripped-done.txt :  3985\n",
      "20 041115517CDTracy-stripped-done.txt :  3171\n",
      "21 041015710Alvh-stripped-done.txt :  4898\n",
      "22 041015710AJTriplett-stripped-done.txt :  5353\n",
      "23 041115517CJEvans-stripped-done.txt :  3970\n",
      "24 041015710AAOruganti-stripped-done.txt :  2563\n",
      "25 041015710AMLauter-stripped-done.txt :  4604\n",
      "26 041015517CMGrinberg-stripped-done.txt :  6499\n",
      "27 041015710ADCallahan-stripped-done.txt :  6207\n",
      "28 041115710AJBaker-stripped-done.txt :  3909\n",
      "29 041115517CMMakai-stripped-done.txt :  5807\n"
     ]
    }
   ],
   "source": [
    "i = 0\n",
    "for textFile in textFiles:\n",
    "    try:\n",
    "        with open(textFile) as f:\n",
    "            words = []\n",
    "            for line in f:\n",
    "                line2 = \"\".join([char if char not in punctuation else \" \" for char in line]) #join is pret-ty crucial\n",
    "                #if you have a list of strings you can use list to join them\n",
    "                words.extend(line2.lower().split()) #extend is like append but for one list\n",
    "            print(i, str(textFile), \": \",  len(words))\n",
    "            \n",
    "            i += 1\n",
    "    except: # CRKelly-stripped-done is NOT WORKING\n",
    "        pass"
   ]
  },
  {
   "cell_type": "markdown",
   "metadata": {},
   "source": [
    "## Counter Frequencies"
   ]
  },
  {
   "cell_type": "code",
   "execution_count": 56,
   "metadata": {
    "collapsed": true
   },
   "outputs": [],
   "source": [
    "words =[]\n",
    "with open(textFiles[0]) as f:\n",
    "    for line in f:\n",
    "        line2 = \"\".join([char if char not in punctuation else \" \" for char in line]) #join is pret-ty crucial\n",
    "        #if you have a list of strings you can use list to join them\n",
    "        words.extend(line2.lower().split()) #extend is like append but for one list\n",
    "#word frequency\n",
    "from collections import Counter\n",
    "c = Counter(words)"
   ]
  },
  {
   "cell_type": "code",
   "execution_count": 58,
   "metadata": {
    "collapsed": false
   },
   "outputs": [
    {
     "data": {
      "text/plain": [
       "[('the', 292),\n",
       " ('to', 226),\n",
       " ('a', 221),\n",
       " ('it', 187),\n",
       " ('you', 184),\n",
       " ('of', 166),\n",
       " ('and', 165),\n",
       " ('that', 158),\n",
       " ('is', 111),\n",
       " ('in', 111)]"
      ]
     },
     "execution_count": 58,
     "metadata": {},
     "output_type": "execute_result"
    }
   ],
   "source": [
    "c.most_common(10)\n",
    "#lots of stop words"
   ]
  },
  {
   "cell_type": "code",
   "execution_count": 64,
   "metadata": {
    "collapsed": false
   },
   "outputs": [
    {
     "data": {
      "text/plain": [
       "4"
      ]
     },
     "execution_count": 64,
     "metadata": {},
     "output_type": "execute_result"
    }
   ],
   "source": [
    "c['applause']"
   ]
  },
  {
   "cell_type": "code",
   "execution_count": null,
   "metadata": {
    "collapsed": true
   },
   "outputs": [],
   "source": []
  }
 ],
 "metadata": {
  "kernelspec": {
   "display_name": "Python 3",
   "language": "python",
   "name": "python3"
  },
  "language_info": {
   "codemirror_mode": {
    "name": "ipython",
    "version": 3
   },
   "file_extension": ".py",
   "mimetype": "text/x-python",
   "name": "python",
   "nbconvert_exporter": "python",
   "pygments_lexer": "ipython3",
   "version": "3.4.3"
  }
 },
 "nbformat": 4,
 "nbformat_minor": 0
}
