{
 "cells": [
  {
   "cell_type": "markdown",
   "metadata": {
    "collapsed": false
   },
   "source": [
    "# Exploring PyCon transcriptions\n",
    "            \n",
    "            \n",
    "            "
   ]
  },
  {
   "cell_type": "code",
   "execution_count": 2,
   "metadata": {
    "collapsed": false
   },
   "outputs": [],
   "source": [
    "import os\n",
    "import nltk # No Doubt, things might be easier with this\n",
    "import glob\n",
    "import re\n",
    "from string import punctuation\n",
    "from os import listdir\n",
    "import codecs\n",
    "from collections import Counter\n",
    "\n",
    "words = [] # empty list to hold ALL the words\n",
    "\n",
    "# loop through the files using glob\n",
    "textFiles = glob.glob(\"*.txt\")\n",
    "# and run, puting the chosen File's words into Words\n",
    "# 18 doesn't work Problem with UTF encoding\n",
    "with open(textFiles[1]) as f:\n",
    "    for line in f:\n",
    "        line2 = \"\".join([char if char not in punctuation else \" \" for char in line]) #join is pret-ty crucial\n",
    "        #if you have a list of strings you can use list to join them\n",
    "        words.extend(line2.lower().split()) #extend is like append but for one list"
   ]
  },
  {
   "cell_type": "markdown",
   "metadata": {},
   "source": [
    "### Little Tests"
   ]
  },
  {
   "cell_type": "code",
   "execution_count": 5,
   "metadata": {
    "collapsed": false
   },
   "outputs": [
    {
     "name": "stdout",
     "output_type": "stream",
     "text": [
      "['we', 're', 'a', 'little', 'bit', 'behind', 'at', 'the', 'moment', 'hopefully']\n"
     ]
    },
    {
     "data": {
      "text/plain": [
       "6785"
      ]
     },
     "execution_count": 5,
     "metadata": {},
     "output_type": "execute_result"
    }
   ],
   "source": [
    "print(words[0:10]) # Print the first few words\n",
    "len(words) #output word count"
   ]
  },
  {
   "cell_type": "markdown",
   "metadata": {
    "collapsed": false
   },
   "source": [
    "# Lets Look at ALL the Talks"
   ]
  },
  {
   "cell_type": "markdown",
   "metadata": {},
   "source": [
    "I like how the transcribers included applause and laughter... \n",
    "\n",
    "These are part of the talk only insofar as the audience is talking back! It makes it a dialogue, instead of a monologue. "
   ]
  },
  {
   "cell_type": "code",
   "execution_count": 34,
   "metadata": {
    "collapsed": false
   },
   "outputs": [
    {
     "name": "stdout",
     "output_type": "stream",
     "text": [
      "0 041115710ABRhodes-stripped-done.txt \n",
      "  Word Count: 6875\n",
      "  Applause: 4 and the Funniness: 3 \n",
      "\n",
      "1 041015710AKScott-stripped-done.txt \n",
      "  Word Count: 6785\n",
      "  Applause: 2 and the Funniness: 0 \n",
      "\n",
      "2 041015517CJSchenck-stripped-done.txt \n",
      "  Word Count: 5463\n",
      "  Applause: 3 and the Funniness: 0 \n",
      "\n",
      "3 041215517CCLassam-stripped-done.txt \n",
      "  Word Count: 4535\n",
      "  Applause: 2 and the Funniness: 0 \n",
      "\n",
      "4 041215517CTEastman-stripped-done.txt \n",
      "  Word Count: 4833\n",
      "  Applause: 2 and the Funniness: 6 \n",
      "\n",
      "5 041115517CCMyers-stripped-done.txt \n",
      "  Word Count: 4723\n",
      "  Applause: 3 and the Funniness: 0 \n",
      "\n",
      "6 041215710ACSpang-stripped-done.txt \n",
      "  Word Count: 3950\n",
      "  Applause: 4 and the Funniness: 1 \n",
      "\n",
      "7 041115710AAKaptur-stripped-done.txt \n",
      "  Word Count: 6343\n",
      "  Applause: 3 and the Funniness: 2 \n",
      "\n",
      "8 041115710ALaroia-stripped-done.txt \n",
      "  Word Count: 4239\n",
      "  Applause: 4 and the Funniness: 2 \n",
      "\n",
      "9 041215517CYLi-stripped-done.txt \n",
      "  Word Count: 5468\n",
      "  Applause: 2 and the Funniness: 1 \n",
      "\n",
      "10 041015710AJCheng-stripped-done.txt \n",
      "  Word Count: 4336\n",
      "  Applause: 3 and the Funniness: 0 \n",
      "\n",
      "11 041015710ABPeterson-stripped-done.txt \n",
      "  Word Count: 3416\n",
      "  Applause: 2 and the Funniness: 0 \n",
      "\n",
      "12 041115517CDKozar-stripped-done.txt \n",
      "  Word Count: 3342\n",
      "  Applause: 3 and the Funniness: 0 \n",
      "\n",
      "13 041015517CFStratton-stripped-done.txt \n",
      "  Word Count: 5156\n",
      "  Applause: 2 and the Funniness: 0 \n",
      "\n",
      "14 041215710ALSneeringer-stripped-done.txt \n",
      "  Word Count: 3539\n",
      "  Applause: 2 and the Funniness: 0 \n",
      "\n",
      "15 041115710ALRupprecht-stripped-done.txt \n",
      "  Word Count: 3565\n",
      "  Applause: 3 and the Funniness: 4 \n",
      "\n",
      "16 041215710ASBird-stripped-done.txt \n",
      "  Word Count: 4526\n",
      "  Applause: 3 and the Funniness: 0 \n",
      "\n",
      "17 041115710AAKaptur2-stripped-done.txt \n",
      "  Word Count: 4420\n",
      "  Applause: 4 and the Funniness: 4 \n",
      "\n",
      "18 041115517CMScherer-stripped-done.txt \n",
      "  Word Count: 2941\n",
      "  Applause: 3 and the Funniness: 0 \n",
      "\n",
      "19 041015517CCBenfield-stripped-done.txt \n",
      "  Word Count: 3985\n",
      "  Applause: 2 and the Funniness: 1 \n",
      "\n",
      "20 041115517CDTracy-stripped-done.txt \n",
      "  Word Count: 3171\n",
      "  Applause: 3 and the Funniness: 1 \n",
      "\n",
      "21 041015710Alvh-stripped-done.txt \n",
      "  Word Count: 4898\n",
      "  Applause: 3 and the Funniness: 0 \n",
      "\n",
      "22 041015710AJTriplett-stripped-done.txt \n",
      "  Word Count: 5353\n",
      "  Applause: 3 and the Funniness: 1 \n",
      "\n",
      "23 041115517CJEvans-stripped-done.txt \n",
      "  Word Count: 3970\n",
      "  Applause: 2 and the Funniness: 2 \n",
      "\n",
      "24 041015710AAOruganti-stripped-done.txt \n",
      "  Word Count: 2563\n",
      "  Applause: 1 and the Funniness: 0 \n",
      "\n",
      "25 041015710AMLauter-stripped-done.txt \n",
      "  Word Count: 4604\n",
      "  Applause: 4 and the Funniness: 2 \n",
      "\n",
      "26 041015517CMGrinberg-stripped-done.txt \n",
      "  Word Count: 6499\n",
      "  Applause: 4 and the Funniness: 0 \n",
      "\n",
      "27 041015710ADCallahan-stripped-done.txt \n",
      "  Word Count: 6207\n",
      "  Applause: 2 and the Funniness: 2 \n",
      "\n",
      "28 041115710AJBaker-stripped-done.txt \n",
      "  Word Count: 3909\n",
      "  Applause: 2 and the Funniness: 0 \n",
      "\n",
      "29 041115517CMMakai-stripped-done.txt \n",
      "  Word Count: 5807\n",
      "  Applause: 2 and the Funniness: 1 \n",
      "\n"
     ]
    }
   ],
   "source": [
    "i = 0\n",
    "for textFile in textFiles:\n",
    "    try:\n",
    "        with open(textFile) as f:\n",
    "            words = []\n",
    "            for line in f:\n",
    "                line2 = \"\".join([char if char not in punctuation else \" \" for char in line]) #join is pret-ty crucial\n",
    "                # if you have a list of strings you can use list to join them\n",
    "                words.extend(line2.lower().split()) \n",
    "                # extend is like append but you whind up with one list\n",
    "            print(i, str(textFile), \"\\n  Word Count:\",  len(words))\n",
    "            c = Counter(words)\n",
    "            quantApp = c['applause']\n",
    "            quantLaugh = c['laughter']\n",
    "            print(\"  Applause:\", quantApp, \"and the Funniness:\", quantLaugh, \"\\n\")\n",
    "            i += 1\n",
    "    except:  # CRKelly-stripped-done is NOT WORKING\n",
    "        pass # Because it's encoded inproperly"
   ]
  },
  {
   "cell_type": "markdown",
   "metadata": {},
   "source": [
    "## Counter Objects"
   ]
  },
  {
   "cell_type": "code",
   "execution_count": 22,
   "metadata": {
    "collapsed": true
   },
   "outputs": [],
   "source": [
    "\"\"\"This time deal with a single textFile\"\"\"\n",
    "words =[]\n",
    "with open(textFiles[0]) as f:\n",
    "    for line in f:\n",
    "        line2 = \"\".join([char if char not in punctuation else \" \" for char in line])\n",
    "        words.extend(line2.lower().split()) \n",
    "#Instantiate The Counter Object\n",
    "c = Counter(words)"
   ]
  },
  {
   "cell_type": "code",
   "execution_count": 23,
   "metadata": {
    "collapsed": false
   },
   "outputs": [
    {
     "data": {
      "text/plain": [
       "[('the', 292),\n",
       " ('to', 226),\n",
       " ('a', 221),\n",
       " ('it', 187),\n",
       " ('you', 184),\n",
       " ('of', 166),\n",
       " ('and', 165),\n",
       " ('that', 158),\n",
       " ('in', 111),\n",
       " ('is', 111)]"
      ]
     },
     "execution_count": 23,
     "metadata": {},
     "output_type": "execute_result"
    }
   ],
   "source": [
    "c.most_common(10) # Lists most common words\n",
    "# Needs a list of stop words... or not"
   ]
  },
  {
   "cell_type": "code",
   "execution_count": 24,
   "metadata": {
    "collapsed": false
   },
   "outputs": [
    {
     "data": {
      "text/plain": [
       "4"
      ]
     },
     "execution_count": 24,
     "metadata": {},
     "output_type": "execute_result"
    }
   ],
   "source": [
    "c['applause']\n",
    "# Counters return a number of a certain word"
   ]
  },
  {
   "cell_type": "markdown",
   "metadata": {},
   "source": [
    "## Finding the Likes, and their collocations"
   ]
  },
  {
   "cell_type": "code",
   "execution_count": 28,
   "metadata": {
    "collapsed": false
   },
   "outputs": [
    {
     "name": "stdout",
     "output_type": "stream",
     "text": [
      "[266, 491, 616, 823, 944, 1241, 1927, 3352, 3427, 3500, 4144, 4146, 4317, 4322, 4898, 4924, 4964, 5270, 5607, 6377, 6387, 6389, 6542, 6572, 6630, 6680]\n"
     ]
    }
   ],
   "source": [
    "\"\"\"\n",
    "    More List Combobulations! \n",
    "    Don't be Scared of Regex!\n",
    "\"\"\"\n",
    "new_words = [i for i, x in enumerate(words)if re.match(\"like\", x)]\n",
    "print(new_words) # This'll print the Index of each word which matches like"
   ]
  },
  {
   "cell_type": "code",
   "execution_count": 32,
   "metadata": {
    "collapsed": false
   },
   "outputs": [],
   "source": [
    "likewrapper = [] # Find the collocations\n",
    "for i in new_words:\n",
    "    likewrapper.extend(words[i-1:i+2])\n",
    "    # TODO count out each three, and then divy uhm up that way"
   ]
  },
  {
   "cell_type": "code",
   "execution_count": 33,
   "metadata": {
    "collapsed": false
   },
   "outputs": [
    {
     "name": "stdout",
     "output_type": "stream",
     "text": [
      "['strings', 'like', 'this', 'most', 'like', 'functional', 'just', 'like', 'with', 'method', 'like', 'split', 'of', 'like', 'an', 'it', 'like', 'a', 'things', 'like', 'that', 's', 'like', 'a', 'acts', 'like', 'it', 'and', 'like', 'all', 'just', 'like', 'just', 'just', 'like', 'for', 'looks', 'like', 'pretty', 'looks', 'like', 'almost', 'it', 'like', 'to', 'looks', 'like', 'and', 'pretend', 'like', 'packets', 'version', 'like', 'read', 'something', 'like', 'this', 'string', 'like', 'mutably', 'list', 'like', 'operations', 'operations', 'like', 'assignment', 'string', 'like', 'the', 'string', 'like', 'to', 'everything', 'like', 'this', 'string', 'like', 'things']\n"
     ]
    }
   ],
   "source": [
    "print(likewrapper)"
   ]
  },
  {
   "cell_type": "markdown",
   "metadata": {
    "collapsed": true
   },
   "source": [
    "Of the different uses of like (adjectival/verbal/filler), there seems to be few filler instances..."
   ]
  },
  {
   "cell_type": "code",
   "execution_count": null,
   "metadata": {
    "collapsed": true
   },
   "outputs": [],
   "source": []
  }
 ],
 "metadata": {
  "kernelspec": {
   "display_name": "Python 3",
   "language": "python",
   "name": "python3"
  },
  "language_info": {
   "codemirror_mode": {
    "name": "ipython",
    "version": 3
   },
   "file_extension": ".py",
   "mimetype": "text/x-python",
   "name": "python",
   "nbconvert_exporter": "python",
   "pygments_lexer": "ipython3",
   "version": "3.4.3"
  }
 },
 "nbformat": 4,
 "nbformat_minor": 0
}
